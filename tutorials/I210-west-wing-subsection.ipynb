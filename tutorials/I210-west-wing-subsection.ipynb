{
 "cells": [
  {
   "cell_type": "code",
   "execution_count": 35,
   "metadata": {},
   "outputs": [],
   "source": [
    "'''\n",
    "The code developed in this Scenario is mainly based off the code already available in the\n",
    "Flow tutorial notebooks. The purpose of this Scenario is to serve as a\n",
    "benchmark for the I-210 subsection problem to be later used to train an agent.\n",
    "'''\n",
    "# Supress system warnings that have no effect\n",
    "import warnings\n",
    "warnings.filterwarnings('ignore')\n",
    "\n",
    "# the TestEnv environment is used to simply simulate the network\n",
    "from flow.envs import TestEnv\n",
    "\n",
    "# the Experiment class is used for running simulations\n",
    "from flow.core.experiment import Experiment\n",
    "\n",
    "# all other imports are standard\n",
    "from flow.core.params import VehicleParams, InFlows, NetParams\n",
    "from flow.core.params import InitialConfig, EnvParams, SumoParams\n",
    "\n",
    "from flow.controllers import ContinuousRouter, IDMController\n",
    "from flow.core.params import SumoCarFollowingParams, SumoLaneChangeParams"
   ]
  },
  {
   "cell_type": "code",
   "execution_count": 36,
   "metadata": {},
   "outputs": [],
   "source": [
    "# Use this hand-in-hand with OSM files\n",
    "from flow.scenarios import Scenario"
   ]
  },
  {
   "cell_type": "code",
   "execution_count": 37,
   "metadata": {},
   "outputs": [],
   "source": [
    "# specify the sub-section as a scenario\n",
    "'''\n",
    "You're going to want to change the path of the OSM file to the path\n",
    "that you have it saved under. Go through the following steps in order to render\n",
    "the same west wing subsection of the I-210 Highway:\n",
    "1) Visit the following link: https://www.openstreetmap.org/#map=17/34.11926/-117.82398\n",
    "2) Click on the 'Export' button on the top left corner of the screen\n",
    "3) Click the 'Export' button in blue that showed up in the pop-up menu\n",
    "   on the left side of the screen\n",
    "4) Set the 'osm_path' parameter below to 'path/to/west_wing.osm'\n",
    "\n",
    "**Note you may have to rename the file, if so make sure to specify the .osm in the file name.\n",
    "'''\n",
    "net_params = NetParams(\n",
    "    osm_path='/Users/apple/Desktop/Berkeley/Forks/i210/west_wing.osm',\n",
    "    no_internal_links=False\n",
    ")"
   ]
  },
  {
   "cell_type": "code",
   "execution_count": 38,
   "metadata": {},
   "outputs": [],
   "source": [
    "# create the remainding parameters\n",
    "env_params = EnvParams()\n",
    "sim_params = SumoParams(render=True, emission_path='/Users/apple/Desktop/Berkeley/Forks/flow/emissions/')\n",
    "initial_config = InitialConfig(spacing=\"random\", perturbation=2)\n",
    "vehicles = VehicleParams()\n",
    "\n",
    "vehicles.add(\n",
    "    veh_id = \"human\",\n",
    "    acceleration_controller=(IDMController, {}),\n",
    "    routing_controller = (ContinuousRouter, {}),\n",
    "    car_following_params=SumoCarFollowingParams(\n",
    "        speed_mode=\"obey_safe_speed\",\n",
    "    ),\n",
    "    lane_change_params=SumoLaneChangeParams(\n",
    "        lane_change_mode= \"strategic\",\n",
    "    ), num_vehicles = 400)\n",
    "\n",
    "# create the scenario\n",
    "scenario = Scenario(\n",
    "    name='west_wing',\n",
    "    net_params=net_params,\n",
    "    initial_config=initial_config,\n",
    "    vehicles=vehicles\n",
    ")"
   ]
  },
  {
   "cell_type": "code",
   "execution_count": 39,
   "metadata": {},
   "outputs": [
    {
     "name": "stdout",
     "output_type": "stream",
     "text": [
      "No routes specified, defaulting to single edge routes.\n",
      "Round 0, return: 0\n",
      "Average, std return: 0.0, 0.0\n",
      "Average, std speed: 0.5330237850882228, 0.0\n"
     ]
    },
    {
     "data": {
      "text/plain": [
       "{'mean_returns': [0.0],\n",
       " 'per_step_returns': [[0, 0, 0, 0, 0, 0, 0, 0, 0, 0]],\n",
       " 'returns': [0],\n",
       " 'velocities': [array([0.09695235, 0.1938753 , 0.29077632, 0.38766221, 0.48454275,\n",
       "         0.58143332, 0.67834922, 0.7752518 , 0.87222225, 0.96917233])]}"
      ]
     },
     "execution_count": 39,
     "metadata": {},
     "output_type": "execute_result"
    }
   ],
   "source": [
    "# create the environment\n",
    "env = TestEnv(\n",
    "    env_params=env_params,\n",
    "    sim_params=sim_params,\n",
    "    scenario=scenario\n",
    ")\n",
    "\n",
    "# run the simulation for 1000 steps\n",
    "exp = Experiment(env=env)\n",
    "exp.run(1, 10)"
   ]
  },
  {
   "cell_type": "code",
   "execution_count": 40,
   "metadata": {},
   "outputs": [],
   "source": [
    "'''\n",
    "Up until this point we have Human cars originating on all edges.\n",
    "Let us limit them to the highway strip belonging to the I-210 as well as it's round semi-circle\n",
    "section by defining the 'EDGES_DISTRIBUTION' variable in the InitialConfig().\n",
    "'''\n",
    "\n",
    "EDGES_DISTRIBUTION = [\n",
    "    # right semi circle\n",
    "    \"182793343\",\n",
    "    \"29407664\",\n",
    "    \"51139309\",\n",
    "    \"51139310#0\",\n",
    "    \"51139310#1\",\n",
    "    \"156471827\",\n",
    "    \"15647183\",\n",
    "\n",
    "    # left semi circle   \n",
    "    \"29407755\",\n",
    "    \"48204049\",\n",
    "    \n",
    "    # top section of I-210, heading east\n",
    "    \"156471837\",\n",
    "    \"27260026#0\",\n",
    "    \n",
    "    # ----\n",
    "    \"302013371\",\n",
    "    \n",
    "    \"156471822\"\n",
    "]\n",
    "\n",
    "# the above variable is added to initial_config\n",
    "new_initial_config = InitialConfig(\n",
    "    edges_distribution=EDGES_DISTRIBUTION\n",
    ")"
   ]
  },
  {
   "cell_type": "code",
   "execution_count": 41,
   "metadata": {},
   "outputs": [],
   "source": [
    "import random\n",
    "\n",
    "edge_options = {\n",
    "            # right semi circle\n",
    "            \"182793343\" : [\"182793343\",\"29407664\", \"51139309\", \n",
    "                           \"51139310#0\", \"51139310#1\", \"156471827\", \"156471813\"],\n",
    "            \n",
    "            \"29407664\" : [\"29407664\", \"51139309\", \"51139310#0\", \"51139310#1\", \"156471827\", \n",
    "                          \"156471813\"],\n",
    "            \n",
    "            \"51139309\" : [\"51139309\", \"51139310#0\", \"51139310#1\", \"156471827\", \"156471813\"],\n",
    "            \n",
    "            \"51139310#0\" : [\"51139310#0\", \"51139310#1\", \"156471827\", \"156471813\"],\n",
    "            \n",
    "            \"51139310#1\" : [\"51139310#1\", \"156471827\", \"156471813\"],\n",
    "            \n",
    "            \"156471827\" : [\"156471827\", \"156471813\"],\n",
    "            \n",
    "            \"156471813\" : [\"156471813\"],\n",
    "            \n",
    "            # left semi circle\n",
    "            \"29407755\" : [\"29407755\", \"48204049\"],\n",
    "            \n",
    "            \"48204049\" : [\"48204049\"],\n",
    "            \n",
    "            # top section heading east\n",
    "            \"156471837\" : [\"156471837\", \"27260026#0\"],\n",
    "            \n",
    "            \"27260026#0\" : [\"27260026#0\"],\n",
    "            \n",
    "            # ----\n",
    "            \"302013371\" : [\"302013371\"],\n",
    "            \n",
    "            \"156471822\" : [\"156471822\"]\n",
    "        }\n",
    "\n",
    "class InterstateSubSection(Scenario):\n",
    "    '''\n",
    "    User defined class in order to allow continuous driving for vehicles on custom edges.\n",
    "    \n",
    "    This class derives the basic functionality of the Scenario class as well as defining\n",
    "    as function to create continuous routing for vehicles on user defined edges.\n",
    "    \n",
    "    Function(s):\n",
    "    -----------\n",
    "    specify_routes: \n",
    "                Returns a tuple of dictionaries where the keys correspond to the edges defined\n",
    "                earlier in the 'EDGES_DISTRIBUTION' variable, and the values are the remaining \n",
    "                edges the follow the key.\n",
    "    '''\n",
    "    def specify_routes(self, net_params):\n",
    "#         n = random.randint(0,2)\n",
    "#         if (n == 0):\n",
    "#             return edge_option_1\n",
    "        return edge_options"
   ]
  },
  {
   "cell_type": "code",
   "execution_count": 42,
   "metadata": {},
   "outputs": [],
   "source": [
    "inflow = InFlows()\n",
    "\n",
    "# Inflow of cars on main East-heading highway\n",
    "inflow.add(veh_type=\"human\",\n",
    "           edge=\"156471837\",\n",
    "           vehs_per_hour=5000,\n",
    "           departSpeed=10,\n",
    "           departLane=\"random\")\n",
    "\n",
    "# Inflow of cars on right semi circle\n",
    "inflow.add(veh_type=\"human\",\n",
    "           edge=\"182793343\",\n",
    "           vehs_per_hour=1000,   # 3000,\n",
    "           departSpeed=10,\n",
    "           departLane=\"random\")\n",
    "\n",
    "inflow_net_params = NetParams(\n",
    "    osm_path='/Users/apple/Desktop/Berkeley/Forks/i210/west_wing.osm',\n",
    "    no_internal_links=False,\n",
    "    inflows=inflow\n",
    ")"
   ]
  },
  {
   "cell_type": "code",
   "execution_count": 44,
   "metadata": {},
   "outputs": [
    {
     "ename": "KeyboardInterrupt",
     "evalue": "",
     "output_type": "error",
     "traceback": [
      "\u001b[0;31m---------------------------------------------------------------------------\u001b[0m",
      "\u001b[0;31mKeyboardInterrupt\u001b[0m                         Traceback (most recent call last)",
      "\u001b[0;32m<ipython-input-44-e1b6b6044c43>\u001b[0m in \u001b[0;36m<module>\u001b[0;34m()\u001b[0m\n\u001b[1;32m     11\u001b[0m     \u001b[0menv_params\u001b[0m\u001b[0;34m=\u001b[0m\u001b[0menv_params\u001b[0m\u001b[0;34m,\u001b[0m\u001b[0;34m\u001b[0m\u001b[0m\n\u001b[1;32m     12\u001b[0m     \u001b[0msim_params\u001b[0m\u001b[0;34m=\u001b[0m\u001b[0msim_params\u001b[0m\u001b[0;34m,\u001b[0m\u001b[0;34m\u001b[0m\u001b[0m\n\u001b[0;32m---> 13\u001b[0;31m     \u001b[0mscenario\u001b[0m\u001b[0;34m=\u001b[0m\u001b[0mnew_scenario\u001b[0m\u001b[0;34m\u001b[0m\u001b[0m\n\u001b[0m\u001b[1;32m     14\u001b[0m )\n\u001b[1;32m     15\u001b[0m \u001b[0;34m\u001b[0m\u001b[0m\n",
      "\u001b[0;32m~/Desktop/Berkeley/Forks/flow/flow/envs/base_env.py\u001b[0m in \u001b[0;36m__init__\u001b[0;34m(self, env_params, sim_params, scenario, simulator)\u001b[0m\n\u001b[1;32m    162\u001b[0m         \u001b[0;31m# needs to be simulated.\u001b[0m\u001b[0;34m\u001b[0m\u001b[0;34m\u001b[0m\u001b[0m\n\u001b[1;32m    163\u001b[0m         kernel_api = self.k.simulation.start_simulation(\n\u001b[0;32m--> 164\u001b[0;31m             scenario=self.k.scenario, sim_params=sim_params)\n\u001b[0m\u001b[1;32m    165\u001b[0m \u001b[0;34m\u001b[0m\u001b[0m\n\u001b[1;32m    166\u001b[0m         \u001b[0;31m# pass the kernel api to the kernel and it's subclasses\u001b[0m\u001b[0;34m\u001b[0m\u001b[0;34m\u001b[0m\u001b[0m\n",
      "\u001b[0;32m~/Desktop/Berkeley/Forks/flow/flow/core/kernel/simulation/traci.py\u001b[0m in \u001b[0;36mstart_simulation\u001b[0;34m(self, scenario, sim_params)\u001b[0m\n\u001b[1;32m    152\u001b[0m \u001b[0;34m\u001b[0m\u001b[0m\n\u001b[1;32m    153\u001b[0m                 \u001b[0mtraci_connection\u001b[0m \u001b[0;34m=\u001b[0m \u001b[0mtraci\u001b[0m\u001b[0;34m.\u001b[0m\u001b[0mconnect\u001b[0m\u001b[0;34m(\u001b[0m\u001b[0mport\u001b[0m\u001b[0;34m,\u001b[0m \u001b[0mnumRetries\u001b[0m\u001b[0;34m=\u001b[0m\u001b[0;36m100\u001b[0m\u001b[0;34m)\u001b[0m\u001b[0;34m\u001b[0m\u001b[0m\n\u001b[0;32m--> 154\u001b[0;31m                 \u001b[0mtraci_connection\u001b[0m\u001b[0;34m.\u001b[0m\u001b[0msetOrder\u001b[0m\u001b[0;34m(\u001b[0m\u001b[0;36m0\u001b[0m\u001b[0;34m)\u001b[0m\u001b[0;34m\u001b[0m\u001b[0m\n\u001b[0m\u001b[1;32m    155\u001b[0m                 \u001b[0mtraci_connection\u001b[0m\u001b[0;34m.\u001b[0m\u001b[0msimulationStep\u001b[0m\u001b[0;34m(\u001b[0m\u001b[0;34m)\u001b[0m\u001b[0;34m\u001b[0m\u001b[0m\n\u001b[1;32m    156\u001b[0m \u001b[0;34m\u001b[0m\u001b[0m\n",
      "\u001b[0;32m/anaconda3/envs/flow/lib/python3.5/site-packages/traci/connection.py\u001b[0m in \u001b[0;36msetOrder\u001b[0;34m(self, order)\u001b[0m\n\u001b[1;32m    298\u001b[0m         \u001b[0mself\u001b[0m\u001b[0;34m.\u001b[0m\u001b[0m_queue\u001b[0m\u001b[0;34m.\u001b[0m\u001b[0mappend\u001b[0m\u001b[0;34m(\u001b[0m\u001b[0mtc\u001b[0m\u001b[0;34m.\u001b[0m\u001b[0mCMD_SETORDER\u001b[0m\u001b[0;34m)\u001b[0m\u001b[0;34m\u001b[0m\u001b[0m\n\u001b[1;32m    299\u001b[0m         \u001b[0mself\u001b[0m\u001b[0;34m.\u001b[0m\u001b[0m_string\u001b[0m \u001b[0;34m+=\u001b[0m \u001b[0mstruct\u001b[0m\u001b[0;34m.\u001b[0m\u001b[0mpack\u001b[0m\u001b[0;34m(\u001b[0m\u001b[0;34m\"!BBi\"\u001b[0m\u001b[0;34m,\u001b[0m \u001b[0;36m1\u001b[0m \u001b[0;34m+\u001b[0m \u001b[0;36m1\u001b[0m \u001b[0;34m+\u001b[0m \u001b[0;36m4\u001b[0m\u001b[0;34m,\u001b[0m \u001b[0mtc\u001b[0m\u001b[0;34m.\u001b[0m\u001b[0mCMD_SETORDER\u001b[0m\u001b[0;34m,\u001b[0m \u001b[0morder\u001b[0m\u001b[0;34m)\u001b[0m\u001b[0;34m\u001b[0m\u001b[0m\n\u001b[0;32m--> 300\u001b[0;31m         \u001b[0mself\u001b[0m\u001b[0;34m.\u001b[0m\u001b[0m_sendExact\u001b[0m\u001b[0;34m(\u001b[0m\u001b[0;34m)\u001b[0m\u001b[0;34m\u001b[0m\u001b[0m\n\u001b[0m\u001b[1;32m    301\u001b[0m \u001b[0;34m\u001b[0m\u001b[0m\n\u001b[1;32m    302\u001b[0m     \u001b[0;32mdef\u001b[0m \u001b[0mclose\u001b[0m\u001b[0;34m(\u001b[0m\u001b[0mself\u001b[0m\u001b[0;34m,\u001b[0m \u001b[0mwait\u001b[0m\u001b[0;34m=\u001b[0m\u001b[0;32mTrue\u001b[0m\u001b[0;34m)\u001b[0m\u001b[0;34m:\u001b[0m\u001b[0;34m\u001b[0m\u001b[0m\n",
      "\u001b[0;32m/anaconda3/envs/flow/lib/python3.5/site-packages/traci/connection.py\u001b[0m in \u001b[0;36m_sendExact\u001b[0;34m(self)\u001b[0m\n\u001b[1;32m     91\u001b[0m             \u001b[0mlength\u001b[0m \u001b[0;34m=\u001b[0m \u001b[0mstruct\u001b[0m\u001b[0;34m.\u001b[0m\u001b[0mpack\u001b[0m\u001b[0;34m(\u001b[0m\u001b[0;34m\"!i\"\u001b[0m\u001b[0;34m,\u001b[0m \u001b[0mlen\u001b[0m\u001b[0;34m(\u001b[0m\u001b[0mself\u001b[0m\u001b[0;34m.\u001b[0m\u001b[0m_string\u001b[0m\u001b[0;34m)\u001b[0m \u001b[0;34m+\u001b[0m \u001b[0;36m4\u001b[0m\u001b[0;34m)\u001b[0m\u001b[0;34m\u001b[0m\u001b[0m\n\u001b[1;32m     92\u001b[0m             \u001b[0mself\u001b[0m\u001b[0;34m.\u001b[0m\u001b[0m_socket\u001b[0m\u001b[0;34m.\u001b[0m\u001b[0msend\u001b[0m\u001b[0;34m(\u001b[0m\u001b[0mlength\u001b[0m \u001b[0;34m+\u001b[0m \u001b[0mself\u001b[0m\u001b[0;34m.\u001b[0m\u001b[0m_string\u001b[0m\u001b[0;34m)\u001b[0m\u001b[0;34m\u001b[0m\u001b[0m\n\u001b[0;32m---> 93\u001b[0;31m             \u001b[0mresult\u001b[0m \u001b[0;34m=\u001b[0m \u001b[0mself\u001b[0m\u001b[0;34m.\u001b[0m\u001b[0m_recvExact\u001b[0m\u001b[0;34m(\u001b[0m\u001b[0;34m)\u001b[0m\u001b[0;34m\u001b[0m\u001b[0m\n\u001b[0m\u001b[1;32m     94\u001b[0m         \u001b[0;32mif\u001b[0m \u001b[0;32mnot\u001b[0m \u001b[0mresult\u001b[0m\u001b[0;34m:\u001b[0m\u001b[0;34m\u001b[0m\u001b[0m\n\u001b[1;32m     95\u001b[0m             \u001b[0mself\u001b[0m\u001b[0;34m.\u001b[0m\u001b[0m_socket\u001b[0m\u001b[0;34m.\u001b[0m\u001b[0mclose\u001b[0m\u001b[0;34m(\u001b[0m\u001b[0;34m)\u001b[0m\u001b[0;34m\u001b[0m\u001b[0m\n",
      "\u001b[0;32m/anaconda3/envs/flow/lib/python3.5/site-packages/traci/connection.py\u001b[0m in \u001b[0;36m_recvExact\u001b[0;34m(self)\u001b[0m\n\u001b[1;32m     70\u001b[0m             \u001b[0mresult\u001b[0m \u001b[0;34m=\u001b[0m \u001b[0mbytes\u001b[0m\u001b[0;34m(\u001b[0m\u001b[0;34m)\u001b[0m\u001b[0;34m\u001b[0m\u001b[0m\n\u001b[1;32m     71\u001b[0m             \u001b[0;32mwhile\u001b[0m \u001b[0mlen\u001b[0m\u001b[0;34m(\u001b[0m\u001b[0mresult\u001b[0m\u001b[0;34m)\u001b[0m \u001b[0;34m<\u001b[0m \u001b[0;36m4\u001b[0m\u001b[0;34m:\u001b[0m\u001b[0;34m\u001b[0m\u001b[0m\n\u001b[0;32m---> 72\u001b[0;31m                 \u001b[0mt\u001b[0m \u001b[0;34m=\u001b[0m \u001b[0mself\u001b[0m\u001b[0;34m.\u001b[0m\u001b[0m_socket\u001b[0m\u001b[0;34m.\u001b[0m\u001b[0mrecv\u001b[0m\u001b[0;34m(\u001b[0m\u001b[0;36m4\u001b[0m \u001b[0;34m-\u001b[0m \u001b[0mlen\u001b[0m\u001b[0;34m(\u001b[0m\u001b[0mresult\u001b[0m\u001b[0;34m)\u001b[0m\u001b[0;34m)\u001b[0m\u001b[0;34m\u001b[0m\u001b[0m\n\u001b[0m\u001b[1;32m     73\u001b[0m                 \u001b[0;32mif\u001b[0m \u001b[0;32mnot\u001b[0m \u001b[0mt\u001b[0m\u001b[0;34m:\u001b[0m\u001b[0;34m\u001b[0m\u001b[0m\n\u001b[1;32m     74\u001b[0m                     \u001b[0;32mreturn\u001b[0m \u001b[0;32mNone\u001b[0m\u001b[0;34m\u001b[0m\u001b[0m\n",
      "\u001b[0;31mKeyboardInterrupt\u001b[0m: "
     ]
    }
   ],
   "source": [
    "# create the scenario\n",
    "new_scenario = InterstateSubSection(\n",
    "    name='west_wing',\n",
    "    net_params=inflow_net_params,\n",
    "    initial_config=new_initial_config,\n",
    "    vehicles=vehicles,\n",
    ")\n",
    "\n",
    "# create the environment\n",
    "env = TestEnv(\n",
    "    env_params=env_params,\n",
    "    sim_params=sim_params,\n",
    "    scenario=new_scenario\n",
    ")\n",
    "\n",
    "# run the simulation for 1000 steps\n",
    "exp = Experiment(env=env)\n",
    "exp.run(1, 2500)"
   ]
  },
  {
   "cell_type": "code",
   "execution_count": null,
   "metadata": {},
   "outputs": [],
   "source": []
  }
 ],
 "metadata": {
  "kernelspec": {
   "display_name": "Python [default]",
   "language": "python",
   "name": "python3"
  },
  "language_info": {
   "codemirror_mode": {
    "name": "ipython",
    "version": 3
   },
   "file_extension": ".py",
   "mimetype": "text/x-python",
   "name": "python",
   "nbconvert_exporter": "python",
   "pygments_lexer": "ipython3",
   "version": "3.5.2"
  }
 },
 "nbformat": 4,
 "nbformat_minor": 2
}
